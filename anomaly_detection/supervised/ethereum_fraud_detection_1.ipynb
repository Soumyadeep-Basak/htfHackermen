{
 "cells": [
  {
   "cell_type": "code",
   "execution_count": 115,
   "metadata": {
    "execution": {
     "iopub.execute_input": "2024-11-09T11:00:48.830654Z",
     "iopub.status.busy": "2024-11-09T11:00:48.830172Z",
     "iopub.status.idle": "2024-11-09T11:00:48.839386Z",
     "shell.execute_reply": "2024-11-09T11:00:48.837798Z",
     "shell.execute_reply.started": "2024-11-09T11:00:48.830614Z"
    },
    "id": "vkDDIIt4djwS",
    "trusted": true
   },
   "outputs": [],
   "source": [
    "import pandas as pd\n",
    "import numpy as np\n",
    "import seaborn as sns\n",
    "import matplotlib.pyplot as plt\n",
    "from sklearn.model_selection import train_test_split\n",
    "from sklearn.linear_model import LogisticRegression\n",
    "from sklearn.preprocessing import PowerTransformer\n",
    "from sklearn.metrics import classification_report\n",
    "from sklearn.metrics import confusion_matrix, roc_auc_score, roc_curve, auc\n",
    "from sklearn.metrics import ConfusionMatrixDisplay\n",
    "from sklearn.ensemble import RandomForestClassifier\n",
    "import xgboost as xgb\n",
    "from imblearn.over_sampling import SMOTE\n",
    "from sklearn.model_selection import GridSearchCV\n",
    "import math"
   ]
  },
  {
   "cell_type": "code",
   "execution_count": 116,
   "metadata": {
    "execution": {
     "iopub.execute_input": "2024-11-09T11:00:49.050492Z",
     "iopub.status.busy": "2024-11-09T11:00:49.049383Z",
     "iopub.status.idle": "2024-11-09T11:00:49.210575Z",
     "shell.execute_reply": "2024-11-09T11:00:49.209350Z",
     "shell.execute_reply.started": "2024-11-09T11:00:49.050445Z"
    },
    "id": "wW3B0rg41OIz",
    "outputId": "19a0b834-a12d-4b78-d20b-4e865b98e6c2",
    "trusted": true
   },
   "outputs": [
    {
     "name": "stdout",
     "output_type": "stream",
     "text": [
      "Row :  12146\n",
      "Columns :  33\n"
     ]
    },
    {
     "data": {
      "text/html": [
       "<div>\n",
       "<style scoped>\n",
       "    .dataframe tbody tr th:only-of-type {\n",
       "        vertical-align: middle;\n",
       "    }\n",
       "\n",
       "    .dataframe tbody tr th {\n",
       "        vertical-align: top;\n",
       "    }\n",
       "\n",
       "    .dataframe thead th {\n",
       "        text-align: right;\n",
       "    }\n",
       "</style>\n",
       "<table border=\"1\" class=\"dataframe\">\n",
       "  <thead>\n",
       "    <tr style=\"text-align: right;\">\n",
       "      <th></th>\n",
       "      <th>flag</th>\n",
       "      <th>minTimeBetweenSentTnx</th>\n",
       "      <th>maxTimeBetweenSentTnx</th>\n",
       "      <th>avgTimeBetweenSentTnx</th>\n",
       "      <th>minTimeBetweenRecTnx</th>\n",
       "      <th>maxTimeBetweenRecTnx</th>\n",
       "      <th>avgTimeBetweenRecTnx</th>\n",
       "      <th>lifetime</th>\n",
       "      <th>sentTransactions</th>\n",
       "      <th>receivedTransactions</th>\n",
       "      <th>...</th>\n",
       "      <th>totalEtherBalance</th>\n",
       "      <th>activityDays</th>\n",
       "      <th>dailyMax</th>\n",
       "      <th>ratioRecSent</th>\n",
       "      <th>ratioSentTotal</th>\n",
       "      <th>ratioRecTotal</th>\n",
       "      <th>giniSent</th>\n",
       "      <th>giniRec</th>\n",
       "      <th>txFreq</th>\n",
       "      <th>stdBalanceEth</th>\n",
       "    </tr>\n",
       "    <tr>\n",
       "      <th>address</th>\n",
       "      <th></th>\n",
       "      <th></th>\n",
       "      <th></th>\n",
       "      <th></th>\n",
       "      <th></th>\n",
       "      <th></th>\n",
       "      <th></th>\n",
       "      <th></th>\n",
       "      <th></th>\n",
       "      <th></th>\n",
       "      <th></th>\n",
       "      <th></th>\n",
       "      <th></th>\n",
       "      <th></th>\n",
       "      <th></th>\n",
       "      <th></th>\n",
       "      <th></th>\n",
       "      <th></th>\n",
       "      <th></th>\n",
       "      <th></th>\n",
       "      <th></th>\n",
       "    </tr>\n",
       "  </thead>\n",
       "  <tbody>\n",
       "    <tr>\n",
       "      <th>0xd0cc2b24980cbcca47ef755da88b220a82291407</th>\n",
       "      <td>1</td>\n",
       "      <td>0.0</td>\n",
       "      <td>2387389.0</td>\n",
       "      <td>5.807655e+04</td>\n",
       "      <td>89.0</td>\n",
       "      <td>1.501076e+09</td>\n",
       "      <td>7.148260e+07</td>\n",
       "      <td>46</td>\n",
       "      <td>66</td>\n",
       "      <td>21</td>\n",
       "      <td>...</td>\n",
       "      <td>0.291940</td>\n",
       "      <td>10</td>\n",
       "      <td>60</td>\n",
       "      <td>0.313433</td>\n",
       "      <td>0.750000</td>\n",
       "      <td>0.238636</td>\n",
       "      <td>0.969121</td>\n",
       "      <td>0.888782</td>\n",
       "      <td>1.891304</td>\n",
       "      <td>147.701484</td>\n",
       "    </tr>\n",
       "    <tr>\n",
       "      <th>0x4cdc1cba0aeb5539f2e0ba158281e67e0e54a9b1</th>\n",
       "      <td>1</td>\n",
       "      <td>0.0</td>\n",
       "      <td>0.0</td>\n",
       "      <td>0.000000e+00</td>\n",
       "      <td>3021091.0</td>\n",
       "      <td>1.502802e+09</td>\n",
       "      <td>7.529115e+08</td>\n",
       "      <td>35</td>\n",
       "      <td>0</td>\n",
       "      <td>2</td>\n",
       "      <td>...</td>\n",
       "      <td>0.013541</td>\n",
       "      <td>2</td>\n",
       "      <td>1</td>\n",
       "      <td>2.000000</td>\n",
       "      <td>0.000000</td>\n",
       "      <td>0.666667</td>\n",
       "      <td>0.000000</td>\n",
       "      <td>0.238480</td>\n",
       "      <td>0.057143</td>\n",
       "      <td>0.005000</td>\n",
       "    </tr>\n",
       "    <tr>\n",
       "      <th>0x00e01a648ff41346cdeb873182383333d2184dd1</th>\n",
       "      <td>1</td>\n",
       "      <td>37.0</td>\n",
       "      <td>25112882.0</td>\n",
       "      <td>1.710279e+06</td>\n",
       "      <td>0.0</td>\n",
       "      <td>1.500397e+09</td>\n",
       "      <td>6.820612e+07</td>\n",
       "      <td>299</td>\n",
       "      <td>15</td>\n",
       "      <td>22</td>\n",
       "      <td>...</td>\n",
       "      <td>0.266494</td>\n",
       "      <td>14</td>\n",
       "      <td>16</td>\n",
       "      <td>1.375000</td>\n",
       "      <td>0.394737</td>\n",
       "      <td>0.578947</td>\n",
       "      <td>0.465450</td>\n",
       "      <td>0.614205</td>\n",
       "      <td>0.123746</td>\n",
       "      <td>52.129575</td>\n",
       "    </tr>\n",
       "    <tr>\n",
       "      <th>0x858457daa7e087ad74cdeeceab8419079bc2ca03</th>\n",
       "      <td>1</td>\n",
       "      <td>0.0</td>\n",
       "      <td>642460.0</td>\n",
       "      <td>1.576106e+04</td>\n",
       "      <td>0.0</td>\n",
       "      <td>1.500037e+09</td>\n",
       "      <td>1.352571e+07</td>\n",
       "      <td>36</td>\n",
       "      <td>109</td>\n",
       "      <td>111</td>\n",
       "      <td>...</td>\n",
       "      <td>0.007419</td>\n",
       "      <td>36</td>\n",
       "      <td>67</td>\n",
       "      <td>1.009091</td>\n",
       "      <td>0.493213</td>\n",
       "      <td>0.502262</td>\n",
       "      <td>0.957906</td>\n",
       "      <td>0.794121</td>\n",
       "      <td>6.111111</td>\n",
       "      <td>233.689231</td>\n",
       "    </tr>\n",
       "    <tr>\n",
       "      <th>0x240e125c20a4cc84bd6e7f8d1fd07aff4c06d43d</th>\n",
       "      <td>1</td>\n",
       "      <td>0.0</td>\n",
       "      <td>0.0</td>\n",
       "      <td>0.000000e+00</td>\n",
       "      <td>3894.0</td>\n",
       "      <td>1.500402e+09</td>\n",
       "      <td>3.751409e+08</td>\n",
       "      <td>82</td>\n",
       "      <td>1</td>\n",
       "      <td>4</td>\n",
       "      <td>...</td>\n",
       "      <td>0.002199</td>\n",
       "      <td>3</td>\n",
       "      <td>3</td>\n",
       "      <td>2.000000</td>\n",
       "      <td>0.166667</td>\n",
       "      <td>0.666667</td>\n",
       "      <td>0.000000</td>\n",
       "      <td>0.406556</td>\n",
       "      <td>0.060976</td>\n",
       "      <td>0.757788</td>\n",
       "    </tr>\n",
       "  </tbody>\n",
       "</table>\n",
       "<p>5 rows × 33 columns</p>\n",
       "</div>"
      ],
      "text/plain": [
       "                                            flag  minTimeBetweenSentTnx  \\\n",
       "address                                                                   \n",
       "0xd0cc2b24980cbcca47ef755da88b220a82291407     1                    0.0   \n",
       "0x4cdc1cba0aeb5539f2e0ba158281e67e0e54a9b1     1                    0.0   \n",
       "0x00e01a648ff41346cdeb873182383333d2184dd1     1                   37.0   \n",
       "0x858457daa7e087ad74cdeeceab8419079bc2ca03     1                    0.0   \n",
       "0x240e125c20a4cc84bd6e7f8d1fd07aff4c06d43d     1                    0.0   \n",
       "\n",
       "                                            maxTimeBetweenSentTnx  \\\n",
       "address                                                             \n",
       "0xd0cc2b24980cbcca47ef755da88b220a82291407              2387389.0   \n",
       "0x4cdc1cba0aeb5539f2e0ba158281e67e0e54a9b1                    0.0   \n",
       "0x00e01a648ff41346cdeb873182383333d2184dd1             25112882.0   \n",
       "0x858457daa7e087ad74cdeeceab8419079bc2ca03               642460.0   \n",
       "0x240e125c20a4cc84bd6e7f8d1fd07aff4c06d43d                    0.0   \n",
       "\n",
       "                                            avgTimeBetweenSentTnx  \\\n",
       "address                                                             \n",
       "0xd0cc2b24980cbcca47ef755da88b220a82291407           5.807655e+04   \n",
       "0x4cdc1cba0aeb5539f2e0ba158281e67e0e54a9b1           0.000000e+00   \n",
       "0x00e01a648ff41346cdeb873182383333d2184dd1           1.710279e+06   \n",
       "0x858457daa7e087ad74cdeeceab8419079bc2ca03           1.576106e+04   \n",
       "0x240e125c20a4cc84bd6e7f8d1fd07aff4c06d43d           0.000000e+00   \n",
       "\n",
       "                                            minTimeBetweenRecTnx  \\\n",
       "address                                                            \n",
       "0xd0cc2b24980cbcca47ef755da88b220a82291407                  89.0   \n",
       "0x4cdc1cba0aeb5539f2e0ba158281e67e0e54a9b1             3021091.0   \n",
       "0x00e01a648ff41346cdeb873182383333d2184dd1                   0.0   \n",
       "0x858457daa7e087ad74cdeeceab8419079bc2ca03                   0.0   \n",
       "0x240e125c20a4cc84bd6e7f8d1fd07aff4c06d43d                3894.0   \n",
       "\n",
       "                                            maxTimeBetweenRecTnx  \\\n",
       "address                                                            \n",
       "0xd0cc2b24980cbcca47ef755da88b220a82291407          1.501076e+09   \n",
       "0x4cdc1cba0aeb5539f2e0ba158281e67e0e54a9b1          1.502802e+09   \n",
       "0x00e01a648ff41346cdeb873182383333d2184dd1          1.500397e+09   \n",
       "0x858457daa7e087ad74cdeeceab8419079bc2ca03          1.500037e+09   \n",
       "0x240e125c20a4cc84bd6e7f8d1fd07aff4c06d43d          1.500402e+09   \n",
       "\n",
       "                                            avgTimeBetweenRecTnx  lifetime  \\\n",
       "address                                                                      \n",
       "0xd0cc2b24980cbcca47ef755da88b220a82291407          7.148260e+07        46   \n",
       "0x4cdc1cba0aeb5539f2e0ba158281e67e0e54a9b1          7.529115e+08        35   \n",
       "0x00e01a648ff41346cdeb873182383333d2184dd1          6.820612e+07       299   \n",
       "0x858457daa7e087ad74cdeeceab8419079bc2ca03          1.352571e+07        36   \n",
       "0x240e125c20a4cc84bd6e7f8d1fd07aff4c06d43d          3.751409e+08        82   \n",
       "\n",
       "                                            sentTransactions  \\\n",
       "address                                                        \n",
       "0xd0cc2b24980cbcca47ef755da88b220a82291407                66   \n",
       "0x4cdc1cba0aeb5539f2e0ba158281e67e0e54a9b1                 0   \n",
       "0x00e01a648ff41346cdeb873182383333d2184dd1                15   \n",
       "0x858457daa7e087ad74cdeeceab8419079bc2ca03               109   \n",
       "0x240e125c20a4cc84bd6e7f8d1fd07aff4c06d43d                 1   \n",
       "\n",
       "                                            receivedTransactions  ...  \\\n",
       "address                                                           ...   \n",
       "0xd0cc2b24980cbcca47ef755da88b220a82291407                    21  ...   \n",
       "0x4cdc1cba0aeb5539f2e0ba158281e67e0e54a9b1                     2  ...   \n",
       "0x00e01a648ff41346cdeb873182383333d2184dd1                    22  ...   \n",
       "0x858457daa7e087ad74cdeeceab8419079bc2ca03                   111  ...   \n",
       "0x240e125c20a4cc84bd6e7f8d1fd07aff4c06d43d                     4  ...   \n",
       "\n",
       "                                            totalEtherBalance  activityDays  \\\n",
       "address                                                                       \n",
       "0xd0cc2b24980cbcca47ef755da88b220a82291407           0.291940            10   \n",
       "0x4cdc1cba0aeb5539f2e0ba158281e67e0e54a9b1           0.013541             2   \n",
       "0x00e01a648ff41346cdeb873182383333d2184dd1           0.266494            14   \n",
       "0x858457daa7e087ad74cdeeceab8419079bc2ca03           0.007419            36   \n",
       "0x240e125c20a4cc84bd6e7f8d1fd07aff4c06d43d           0.002199             3   \n",
       "\n",
       "                                            dailyMax  ratioRecSent  \\\n",
       "address                                                              \n",
       "0xd0cc2b24980cbcca47ef755da88b220a82291407        60      0.313433   \n",
       "0x4cdc1cba0aeb5539f2e0ba158281e67e0e54a9b1         1      2.000000   \n",
       "0x00e01a648ff41346cdeb873182383333d2184dd1        16      1.375000   \n",
       "0x858457daa7e087ad74cdeeceab8419079bc2ca03        67      1.009091   \n",
       "0x240e125c20a4cc84bd6e7f8d1fd07aff4c06d43d         3      2.000000   \n",
       "\n",
       "                                            ratioSentTotal  ratioRecTotal  \\\n",
       "address                                                                     \n",
       "0xd0cc2b24980cbcca47ef755da88b220a82291407        0.750000       0.238636   \n",
       "0x4cdc1cba0aeb5539f2e0ba158281e67e0e54a9b1        0.000000       0.666667   \n",
       "0x00e01a648ff41346cdeb873182383333d2184dd1        0.394737       0.578947   \n",
       "0x858457daa7e087ad74cdeeceab8419079bc2ca03        0.493213       0.502262   \n",
       "0x240e125c20a4cc84bd6e7f8d1fd07aff4c06d43d        0.166667       0.666667   \n",
       "\n",
       "                                            giniSent   giniRec    txFreq  \\\n",
       "address                                                                    \n",
       "0xd0cc2b24980cbcca47ef755da88b220a82291407  0.969121  0.888782  1.891304   \n",
       "0x4cdc1cba0aeb5539f2e0ba158281e67e0e54a9b1  0.000000  0.238480  0.057143   \n",
       "0x00e01a648ff41346cdeb873182383333d2184dd1  0.465450  0.614205  0.123746   \n",
       "0x858457daa7e087ad74cdeeceab8419079bc2ca03  0.957906  0.794121  6.111111   \n",
       "0x240e125c20a4cc84bd6e7f8d1fd07aff4c06d43d  0.000000  0.406556  0.060976   \n",
       "\n",
       "                                            stdBalanceEth  \n",
       "address                                                    \n",
       "0xd0cc2b24980cbcca47ef755da88b220a82291407     147.701484  \n",
       "0x4cdc1cba0aeb5539f2e0ba158281e67e0e54a9b1       0.005000  \n",
       "0x00e01a648ff41346cdeb873182383333d2184dd1      52.129575  \n",
       "0x858457daa7e087ad74cdeeceab8419079bc2ca03     233.689231  \n",
       "0x240e125c20a4cc84bd6e7f8d1fd07aff4c06d43d       0.757788  \n",
       "\n",
       "[5 rows x 33 columns]"
      ]
     },
     "execution_count": 116,
     "metadata": {},
     "output_type": "execute_result"
    }
   ],
   "source": [
    "# Dataset : https://www.kaggle.com/datasets/gescobero/ethereum-fraud-dataset\n",
    "df = pd.read_csv('/kaggle/input/ethereum-fraud-dataset/eth_illicit_features.csv', index_col=0)\n",
    "print(\"Row : \", df.shape[0])\n",
    "print(\"Columns : \", df.shape[1])\n",
    "df.head()"
   ]
  },
  {
   "cell_type": "code",
   "execution_count": 117,
   "metadata": {
    "execution": {
     "iopub.execute_input": "2024-11-09T11:00:49.270283Z",
     "iopub.status.busy": "2024-11-09T11:00:49.269755Z",
     "iopub.status.idle": "2024-11-09T11:00:49.321732Z",
     "shell.execute_reply": "2024-11-09T11:00:49.320240Z",
     "shell.execute_reply.started": "2024-11-09T11:00:49.270245Z"
    },
    "trusted": true
   },
   "outputs": [
    {
     "name": "stdout",
     "output_type": "stream",
     "text": [
      "<class 'pandas.core.frame.DataFrame'>\n",
      "RangeIndex: 5131 entries, 0 to 5130\n",
      "Data columns (total 15 columns):\n",
      " #   Column                 Non-Null Count  Dtype  \n",
      "---  ------                 --------------  -----  \n",
      " 0   avgTimeBetweenSentTnx  5131 non-null   float64\n",
      " 1   avgTimeBetweenRecTnx   5131 non-null   float64\n",
      " 2   lifetime               5131 non-null   float64\n",
      " 3   sentTransactions       5131 non-null   int64  \n",
      " 4   receivedTransactions   5131 non-null   int64  \n",
      " 5   avgValSent             5131 non-null   float64\n",
      " 6   avgValReceived         5131 non-null   float64\n",
      " 7   totalTransactions      5131 non-null   int64  \n",
      " 8   totalEtherSent         5131 non-null   float64\n",
      " 9   totalEtherReceived     5131 non-null   float64\n",
      " 10  totalEtherBalance      5131 non-null   float64\n",
      " 11  ratioRecSent           5131 non-null   float64\n",
      " 12  ratioSentTotal         5131 non-null   float64\n",
      " 13  ratioRecTotal          5131 non-null   float64\n",
      " 14  flag                   5131 non-null   int64  \n",
      "dtypes: float64(11), int64(4)\n",
      "memory usage: 601.4 KB\n"
     ]
    }
   ],
   "source": [
    "import pandas as pd\n",
    "\n",
    "# Assuming 'data' is the DataFrame with your initial columns\n",
    "data = pd.read_csv('/kaggle/input/ethereum-fraudulent-users/blacklist_ether.csv')\n",
    "\n",
    "# Renaming columns\n",
    "data = data.rename(columns={\n",
    "    'timeDiffFirstLastMins': 'lifetime',\n",
    "    'avgValReceived': 'avgValReceived',\n",
    "    'avgMinBetweenReceivedTnx': 'avgTimeBetweenRecTnx',\n",
    "    'totalEtherSent': 'totalEtherSent',\n",
    "    'totalEtherReceived': 'totalEtherReceived',\n",
    "    'receivedTnx': 'receivedTransactions',\n",
    "    'sentTnx': 'sentTransactions',\n",
    "    'avgMinBetweenSentTnx': 'avgTimeBetweenSentTnx',\n",
    "    'totalEtherBalance': 'totalEtherBalance',\n",
    "    'avgValSent': 'avgValSent'\n",
    "})\n",
    "\n",
    "# Deriving additional columns\n",
    "data['totalTransactions'] = data['sentTransactions'] + data['receivedTransactions']\n",
    "data['ratioRecSent'] = data['receivedTransactions'] / data['sentTransactions'].replace(0, 1)  # Avoid division by zero\n",
    "data['ratioSentTotal'] = data['sentTransactions'] / data['totalTransactions'].replace(0, 1)  # Avoid division by zero\n",
    "data['ratioRecTotal'] = data['receivedTransactions'] / data['totalTransactions'].replace(0, 1)  # Avoid division by zero\n",
    "\n",
    "# Dropping columns that don't match the target schema\n",
    "required_columns = [\n",
    "    'flag', 'minTimeBetweenSentTnx', 'maxTimeBetweenSentTnx', 'avgTimeBetweenSentTnx',\n",
    "    'minTimeBetweenRecTnx', 'maxTimeBetweenRecTnx', 'avgTimeBetweenRecTnx', 'lifetime',\n",
    "    'sentTransactions', 'receivedTransactions', 'createdContracts', 'numUniqSentAddress',\n",
    "    'numUniqRecAddress', 'minValSent', 'maxValSent', 'avgValSent', 'minValReceived',\n",
    "    'maxValReceived', 'avgValReceived', 'totalTransactions', 'totalEtherSent',\n",
    "    'totalEtherReceived', 'totalEtherSentContracts', 'totalEtherBalance', 'activityDays',\n",
    "    'dailyMax', 'ratioRecSent', 'ratioSentTotal', 'ratioRecTotal', 'giniSent', 'giniRec',\n",
    "    'txFreq', 'stdBalanceEth'\n",
    "]\n",
    "\n",
    "# Drop columns not in the required columns\n",
    "data = data[[col for col in required_columns if col in data.columns]]\n",
    "data.head()\n",
    "\n",
    "data['flag']=1\n",
    "data.info()"
   ]
  },
  {
   "cell_type": "code",
   "execution_count": 118,
   "metadata": {
    "execution": {
     "iopub.execute_input": "2024-11-09T11:00:49.510210Z",
     "iopub.status.busy": "2024-11-09T11:00:49.509701Z",
     "iopub.status.idle": "2024-11-09T11:00:49.529422Z",
     "shell.execute_reply": "2024-11-09T11:00:49.527923Z",
     "shell.execute_reply.started": "2024-11-09T11:00:49.510173Z"
    },
    "id": "bKnx7YeTeS8c",
    "outputId": "0550cd1c-5133-4409-c14e-0869acc3be78",
    "trusted": true
   },
   "outputs": [
    {
     "name": "stdout",
     "output_type": "stream",
     "text": [
      "<class 'pandas.core.frame.DataFrame'>\n",
      "Index: 12146 entries, 0xd0cc2b24980cbcca47ef755da88b220a82291407 to 0x53d5d85e9a67fc0178a5216fdedde4050a82693e\n",
      "Data columns (total 33 columns):\n",
      " #   Column                   Non-Null Count  Dtype  \n",
      "---  ------                   --------------  -----  \n",
      " 0   flag                     12146 non-null  int64  \n",
      " 1   minTimeBetweenSentTnx    12146 non-null  float64\n",
      " 2   maxTimeBetweenSentTnx    12146 non-null  float64\n",
      " 3   avgTimeBetweenSentTnx    12146 non-null  float64\n",
      " 4   minTimeBetweenRecTnx     12146 non-null  float64\n",
      " 5   maxTimeBetweenRecTnx     12146 non-null  float64\n",
      " 6   avgTimeBetweenRecTnx     12146 non-null  float64\n",
      " 7   lifetime                 12146 non-null  int64  \n",
      " 8   sentTransactions         12146 non-null  int64  \n",
      " 9   receivedTransactions     12146 non-null  int64  \n",
      " 10  createdContracts         12146 non-null  int64  \n",
      " 11  numUniqSentAddress       12146 non-null  int64  \n",
      " 12  numUniqRecAddress        12146 non-null  int64  \n",
      " 13  minValSent               12146 non-null  float64\n",
      " 14  maxValSent               12146 non-null  float64\n",
      " 15  avgValSent               12146 non-null  float64\n",
      " 16  minValReceived           12146 non-null  float64\n",
      " 17  maxValReceived           12146 non-null  float64\n",
      " 18  avgValReceived           12146 non-null  float64\n",
      " 19  totalTransactions        12146 non-null  int64  \n",
      " 20  totalEtherSent           12146 non-null  float64\n",
      " 21  totalEtherReceived       12146 non-null  float64\n",
      " 22  totalEtherSentContracts  12146 non-null  float64\n",
      " 23  totalEtherBalance        12146 non-null  float64\n",
      " 24  activityDays             12146 non-null  int64  \n",
      " 25  dailyMax                 12146 non-null  int64  \n",
      " 26  ratioRecSent             12146 non-null  float64\n",
      " 27  ratioSentTotal           12146 non-null  float64\n",
      " 28  ratioRecTotal            12146 non-null  float64\n",
      " 29  giniSent                 12146 non-null  float64\n",
      " 30  giniRec                  12146 non-null  float64\n",
      " 31  txFreq                   12146 non-null  float64\n",
      " 32  stdBalanceEth            12146 non-null  float64\n",
      "dtypes: float64(23), int64(10)\n",
      "memory usage: 3.2+ MB\n"
     ]
    }
   ],
   "source": [
    "df.info()"
   ]
  },
  {
   "cell_type": "code",
   "execution_count": 119,
   "metadata": {
    "execution": {
     "iopub.execute_input": "2024-11-09T11:00:49.755178Z",
     "iopub.status.busy": "2024-11-09T11:00:49.754704Z",
     "iopub.status.idle": "2024-11-09T11:00:49.764728Z",
     "shell.execute_reply": "2024-11-09T11:00:49.763124Z",
     "shell.execute_reply.started": "2024-11-09T11:00:49.755142Z"
    },
    "trusted": true
   },
   "outputs": [],
   "source": [
    "# Assuming 'data' is the reference DataFrame and 'df' is the DataFrame to be modified\n",
    "# Get the list of columns in the reference DataFrame and add 'flag'\n",
    "reference_columns = list(data.columns) \n",
    "# Drop columns in 'df' that are not in 'reference_columns'\n",
    "df = df[df.columns.intersection(reference_columns)]"
   ]
  },
  {
   "cell_type": "code",
   "execution_count": 120,
   "metadata": {
    "execution": {
     "iopub.execute_input": "2024-11-09T11:00:49.934795Z",
     "iopub.status.busy": "2024-11-09T11:00:49.934362Z",
     "iopub.status.idle": "2024-11-09T11:00:49.951935Z",
     "shell.execute_reply": "2024-11-09T11:00:49.950642Z",
     "shell.execute_reply.started": "2024-11-09T11:00:49.934761Z"
    },
    "trusted": true
   },
   "outputs": [
    {
     "name": "stdout",
     "output_type": "stream",
     "text": [
      "<class 'pandas.core.frame.DataFrame'>\n",
      "Index: 12146 entries, 0xd0cc2b24980cbcca47ef755da88b220a82291407 to 0x53d5d85e9a67fc0178a5216fdedde4050a82693e\n",
      "Data columns (total 15 columns):\n",
      " #   Column                 Non-Null Count  Dtype  \n",
      "---  ------                 --------------  -----  \n",
      " 0   flag                   12146 non-null  int64  \n",
      " 1   avgTimeBetweenSentTnx  12146 non-null  float64\n",
      " 2   avgTimeBetweenRecTnx   12146 non-null  float64\n",
      " 3   lifetime               12146 non-null  int64  \n",
      " 4   sentTransactions       12146 non-null  int64  \n",
      " 5   receivedTransactions   12146 non-null  int64  \n",
      " 6   avgValSent             12146 non-null  float64\n",
      " 7   avgValReceived         12146 non-null  float64\n",
      " 8   totalTransactions      12146 non-null  int64  \n",
      " 9   totalEtherSent         12146 non-null  float64\n",
      " 10  totalEtherReceived     12146 non-null  float64\n",
      " 11  totalEtherBalance      12146 non-null  float64\n",
      " 12  ratioRecSent           12146 non-null  float64\n",
      " 13  ratioSentTotal         12146 non-null  float64\n",
      " 14  ratioRecTotal          12146 non-null  float64\n",
      "dtypes: float64(10), int64(5)\n",
      "memory usage: 1.5+ MB\n"
     ]
    }
   ],
   "source": [
    "df.info()\n"
   ]
  },
  {
   "cell_type": "code",
   "execution_count": 121,
   "metadata": {
    "execution": {
     "iopub.execute_input": "2024-11-09T11:00:50.120172Z",
     "iopub.status.busy": "2024-11-09T11:00:50.119661Z",
     "iopub.status.idle": "2024-11-09T11:00:50.146738Z",
     "shell.execute_reply": "2024-11-09T11:00:50.145238Z",
     "shell.execute_reply.started": "2024-11-09T11:00:50.120132Z"
    },
    "trusted": true
   },
   "outputs": [
    {
     "name": "stdout",
     "output_type": "stream",
     "text": [
      "<class 'pandas.core.frame.DataFrame'>\n",
      "RangeIndex: 17277 entries, 0 to 17276\n",
      "Data columns (total 16 columns):\n",
      " #   Column                 Non-Null Count  Dtype  \n",
      "---  ------                 --------------  -----  \n",
      " 0   index                  17277 non-null  int64  \n",
      " 1   flag                   17277 non-null  int64  \n",
      " 2   avgTimeBetweenSentTnx  17277 non-null  float64\n",
      " 3   avgTimeBetweenRecTnx   17277 non-null  float64\n",
      " 4   lifetime               17277 non-null  float64\n",
      " 5   sentTransactions       17277 non-null  int64  \n",
      " 6   receivedTransactions   17277 non-null  int64  \n",
      " 7   avgValSent             17277 non-null  float64\n",
      " 8   avgValReceived         17277 non-null  float64\n",
      " 9   totalTransactions      17277 non-null  int64  \n",
      " 10  totalEtherSent         17277 non-null  float64\n",
      " 11  totalEtherReceived     17277 non-null  float64\n",
      " 12  totalEtherBalance      17277 non-null  float64\n",
      " 13  ratioRecSent           17277 non-null  float64\n",
      " 14  ratioSentTotal         17277 non-null  float64\n",
      " 15  ratioRecTotal          17277 non-null  float64\n",
      "dtypes: float64(11), int64(5)\n",
      "memory usage: 2.1 MB\n"
     ]
    }
   ],
   "source": [
    "# Concatenate df and data along rows (default behavior)\n",
    "df = pd.concat([df, data], ignore_index=True).reset_index()\n",
    "df.info()"
   ]
  },
  {
   "cell_type": "code",
   "execution_count": 122,
   "metadata": {
    "execution": {
     "iopub.execute_input": "2024-11-09T11:00:50.341097Z",
     "iopub.status.busy": "2024-11-09T11:00:50.339572Z",
     "iopub.status.idle": "2024-11-09T11:00:50.349122Z",
     "shell.execute_reply": "2024-11-09T11:00:50.347302Z",
     "shell.execute_reply.started": "2024-11-09T11:00:50.341050Z"
    },
    "id": "jybLu9uVeXAs",
    "outputId": "2bcf4c56-58ad-4482-cbb7-edc8fcdc075f",
    "trusted": true
   },
   "outputs": [
    {
     "name": "stdout",
     "output_type": "stream",
     "text": [
      "flag\n",
      "1    10281\n",
      "0     6996\n",
      "Name: count, dtype: int64\n"
     ]
    }
   ],
   "source": [
    "# Inspect target distribution\n",
    "print(df['flag'].value_counts())\n"
   ]
  },
  {
   "cell_type": "code",
   "execution_count": 123,
   "metadata": {
    "execution": {
     "iopub.execute_input": "2024-11-09T11:00:50.575131Z",
     "iopub.status.busy": "2024-11-09T11:00:50.574596Z",
     "iopub.status.idle": "2024-11-09T11:00:50.583845Z",
     "shell.execute_reply": "2024-11-09T11:00:50.582139Z",
     "shell.execute_reply.started": "2024-11-09T11:00:50.575086Z"
    },
    "trusted": true
   },
   "outputs": [],
   "source": [
    "df.drop(columns=['index'],inplace=True)"
   ]
  },
  {
   "cell_type": "code",
   "execution_count": 124,
   "metadata": {
    "execution": {
     "iopub.execute_input": "2024-11-09T11:00:50.781298Z",
     "iopub.status.busy": "2024-11-09T11:00:50.780718Z",
     "iopub.status.idle": "2024-11-09T11:00:50.809202Z",
     "shell.execute_reply": "2024-11-09T11:00:50.807810Z",
     "shell.execute_reply.started": "2024-11-09T11:00:50.781257Z"
    },
    "id": "3GQ_ne1wiN3_",
    "outputId": "31ac9418-3193-4640-d753-9ed5f9c153a5",
    "trusted": true
   },
   "outputs": [
    {
     "name": "stdout",
     "output_type": "stream",
     "text": [
      "Series([], dtype: float64)\n",
      "\n",
      "\n",
      "flag                     2.409759e-01\n",
      "avgTimeBetweenSentTnx    1.196798e+15\n",
      "avgTimeBetweenRecTnx     4.350096e+16\n",
      "lifetime                 1.191206e+11\n",
      "sentTransactions         2.560658e+06\n",
      "receivedTransactions     4.025090e+06\n",
      "avgValSent               6.296730e+04\n",
      "avgValReceived           5.005933e+06\n",
      "totalTransactions        6.708011e+06\n",
      "totalEtherSent           6.037973e+09\n",
      "totalEtherReceived       2.443539e+09\n",
      "totalEtherBalance        3.045818e+09\n",
      "ratioRecSent             3.849227e+06\n",
      "ratioSentTotal           1.091606e-01\n",
      "ratioRecTotal            1.094981e-01\n",
      "dtype: float64\n",
      "(17277, 15)\n"
     ]
    }
   ],
   "source": [
    "no_var = df.var() == 0\n",
    "print(df.var()[no_var])\n",
    "print('\\n')\n",
    "\n",
    "# Drop features with 0 variance --- these features will not help in the performance of the model\n",
    "df.drop(df.var()[no_var].index, axis = 1, inplace = True)\n",
    "print(df.var())\n",
    "print(df.shape)"
   ]
  },
  {
   "cell_type": "code",
   "execution_count": 125,
   "metadata": {
    "execution": {
     "iopub.execute_input": "2024-11-09T11:00:51.257699Z",
     "iopub.status.busy": "2024-11-09T11:00:51.257216Z",
     "iopub.status.idle": "2024-11-09T11:00:52.099283Z",
     "shell.execute_reply": "2024-11-09T11:00:52.097947Z",
     "shell.execute_reply.started": "2024-11-09T11:00:51.257644Z"
    },
    "id": "43BFn2m_omqR",
    "outputId": "708f536f-f769-4094-f84d-393f62fe0067",
    "trusted": true
   },
   "outputs": [
    {
     "data": {
      "image/png": "[encoded data removed]",
      "text/plain": [
       "<Figure size 1800x1000 with 2 Axes>"
      ]
     },
     "metadata": {},
     "output_type": "display_data"
    }
   ],
   "source": [
    "corr = df.corr()\n",
    "\n",
    "mask = np.zeros_like(corr)\n",
    "mask[np.triu_indices_from(mask)]=True\n",
    "with sns.axes_style('white'):\n",
    "    fig, ax = plt.subplots(figsize=(18,10))\n",
    "    sns.heatmap(corr,  mask=mask, annot=False, cmap='CMRmap', center=0, square=True)"
   ]
  },
  {
   "cell_type": "code",
   "execution_count": 126,
   "metadata": {
    "execution": {
     "iopub.execute_input": "2024-11-09T11:00:52.102256Z",
     "iopub.status.busy": "2024-11-09T11:00:52.101709Z",
     "iopub.status.idle": "2024-11-09T11:00:52.113518Z",
     "shell.execute_reply": "2024-11-09T11:00:52.112085Z",
     "shell.execute_reply.started": "2024-11-09T11:00:52.102210Z"
    },
    "id": "DAxKvrPBqH3V",
    "outputId": "7060cefe-bc5d-4d51-c55b-c286ce56dc73",
    "trusted": true
   },
   "outputs": [
    {
     "name": "stdout",
     "output_type": "stream",
     "text": [
      "(17277, 14) (17277,)\n",
      "flag\n",
      "1    10281\n",
      "0     6996\n",
      "Name: count, dtype: int64\n"
     ]
    }
   ],
   "source": [
    "y = df.iloc[:, 0]\n",
    "X = df.iloc[:, 1:]\n",
    "print(X.shape, y.shape)\n",
    "print(y.value_counts())"
   ]
  },
  {
   "cell_type": "code",
   "execution_count": 127,
   "metadata": {
    "execution": {
     "iopub.execute_input": "2024-11-09T11:00:52.130096Z",
     "iopub.status.busy": "2024-11-09T11:00:52.129514Z",
     "iopub.status.idle": "2024-11-09T11:00:52.145591Z",
     "shell.execute_reply": "2024-11-09T11:00:52.144088Z",
     "shell.execute_reply.started": "2024-11-09T11:00:52.130050Z"
    },
    "id": "am4R_lZ-qN73",
    "outputId": "afc3db91-a0a0-4515-918d-7f75d050772e",
    "trusted": true
   },
   "outputs": [
    {
     "name": "stdout",
     "output_type": "stream",
     "text": [
      "(13821, 14) (13821,)\n",
      "(3456, 14) (3456,)\n"
     ]
    }
   ],
   "source": [
    "# Split into training (80%) and testing set (20%)\n",
    "X_train, X_test, y_train, y_test = train_test_split(X, y, test_size = 0.2, random_state = 46)\n",
    "print(X_train.shape, y_train.shape)\n",
    "print(X_test.shape, y_test.shape)"
   ]
  },
  {
   "cell_type": "code",
   "execution_count": 128,
   "metadata": {
    "execution": {
     "iopub.execute_input": "2024-11-09T11:00:52.545758Z",
     "iopub.status.busy": "2024-11-09T11:00:52.545326Z",
     "iopub.status.idle": "2024-11-09T11:00:52.870205Z",
     "shell.execute_reply": "2024-11-09T11:00:52.868779Z",
     "shell.execute_reply.started": "2024-11-09T11:00:52.545724Z"
    },
    "id": "-aEYHjIdPfhV",
    "trusted": true
   },
   "outputs": [],
   "source": [
    "# Normalize the training features\n",
    "norm = PowerTransformer()\n",
    "norm_train_f = norm.fit_transform(X_train)"
   ]
  },
  {
   "cell_type": "code",
   "execution_count": 129,
   "metadata": {
    "execution": {
     "iopub.execute_input": "2024-11-09T11:00:53.030492Z",
     "iopub.status.busy": "2024-11-09T11:00:53.029996Z",
     "iopub.status.idle": "2024-11-09T11:00:53.064321Z",
     "shell.execute_reply": "2024-11-09T11:00:53.062940Z",
     "shell.execute_reply.started": "2024-11-09T11:00:53.030453Z"
    },
    "id": "9Nry_TDFPilM",
    "outputId": "11a237a2-168b-417f-d140-533278e2f377",
    "trusted": true
   },
   "outputs": [
    {
     "data": {
      "text/html": [
       "<div>\n",
       "<style scoped>\n",
       "    .dataframe tbody tr th:only-of-type {\n",
       "        vertical-align: middle;\n",
       "    }\n",
       "\n",
       "    .dataframe tbody tr th {\n",
       "        vertical-align: top;\n",
       "    }\n",
       "\n",
       "    .dataframe thead th {\n",
       "        text-align: right;\n",
       "    }\n",
       "</style>\n",
       "<table border=\"1\" class=\"dataframe\">\n",
       "  <thead>\n",
       "    <tr style=\"text-align: right;\">\n",
       "      <th></th>\n",
       "      <th>avgTimeBetweenSentTnx</th>\n",
       "      <th>avgTimeBetweenRecTnx</th>\n",
       "      <th>lifetime</th>\n",
       "      <th>sentTransactions</th>\n",
       "      <th>receivedTransactions</th>\n",
       "      <th>avgValSent</th>\n",
       "      <th>avgValReceived</th>\n",
       "      <th>totalTransactions</th>\n",
       "      <th>totalEtherSent</th>\n",
       "      <th>totalEtherReceived</th>\n",
       "      <th>totalEtherBalance</th>\n",
       "      <th>ratioRecSent</th>\n",
       "      <th>ratioSentTotal</th>\n",
       "      <th>ratioRecTotal</th>\n",
       "    </tr>\n",
       "  </thead>\n",
       "  <tbody>\n",
       "    <tr>\n",
       "      <th>0</th>\n",
       "      <td>0.742503</td>\n",
       "      <td>0.147839</td>\n",
       "      <td>0.551112</td>\n",
       "      <td>1.730040</td>\n",
       "      <td>1.797928</td>\n",
       "      <td>1.844333</td>\n",
       "      <td>2.063814</td>\n",
       "      <td>1.639666</td>\n",
       "      <td>2.110013</td>\n",
       "      <td>2.161257</td>\n",
       "      <td>0.008760</td>\n",
       "      <td>0.068761</td>\n",
       "      <td>0.238740</td>\n",
       "      <td>0.355358</td>\n",
       "    </tr>\n",
       "    <tr>\n",
       "      <th>1</th>\n",
       "      <td>-0.146034</td>\n",
       "      <td>-1.358497</td>\n",
       "      <td>-1.387473</td>\n",
       "      <td>-0.405058</td>\n",
       "      <td>-1.104854</td>\n",
       "      <td>-0.909572</td>\n",
       "      <td>-1.039192</td>\n",
       "      <td>-0.938144</td>\n",
       "      <td>-1.116705</td>\n",
       "      <td>-1.213442</td>\n",
       "      <td>-0.007086</td>\n",
       "      <td>-0.664424</td>\n",
       "      <td>0.377298</td>\n",
       "      <td>-0.580368</td>\n",
       "    </tr>\n",
       "    <tr>\n",
       "      <th>2</th>\n",
       "      <td>0.598840</td>\n",
       "      <td>-0.453713</td>\n",
       "      <td>1.473800</td>\n",
       "      <td>0.044638</td>\n",
       "      <td>-0.084580</td>\n",
       "      <td>1.152874</td>\n",
       "      <td>1.222639</td>\n",
       "      <td>-0.280278</td>\n",
       "      <td>0.733522</td>\n",
       "      <td>0.691473</td>\n",
       "      <td>-0.007086</td>\n",
       "      <td>0.167696</td>\n",
       "      <td>0.134754</td>\n",
       "      <td>0.456173</td>\n",
       "    </tr>\n",
       "    <tr>\n",
       "      <th>3</th>\n",
       "      <td>-1.145263</td>\n",
       "      <td>1.033566</td>\n",
       "      <td>-1.387473</td>\n",
       "      <td>-0.710821</td>\n",
       "      <td>-0.012750</td>\n",
       "      <td>1.701239</td>\n",
       "      <td>1.061602</td>\n",
       "      <td>-0.416511</td>\n",
       "      <td>0.696456</td>\n",
       "      <td>0.652533</td>\n",
       "      <td>-0.007086</td>\n",
       "      <td>0.867910</td>\n",
       "      <td>-0.944307</td>\n",
       "      <td>1.027595</td>\n",
       "    </tr>\n",
       "    <tr>\n",
       "      <th>4</th>\n",
       "      <td>0.719471</td>\n",
       "      <td>0.975686</td>\n",
       "      <td>-0.108589</td>\n",
       "      <td>0.797030</td>\n",
       "      <td>0.198686</td>\n",
       "      <td>0.564063</td>\n",
       "      <td>1.402087</td>\n",
       "      <td>0.255103</td>\n",
       "      <td>1.045362</td>\n",
       "      <td>1.018174</td>\n",
       "      <td>-0.007085</td>\n",
       "      <td>-0.567660</td>\n",
       "      <td>0.864196</td>\n",
       "      <td>-0.434443</td>\n",
       "    </tr>\n",
       "    <tr>\n",
       "      <th>...</th>\n",
       "      <td>...</td>\n",
       "      <td>...</td>\n",
       "      <td>...</td>\n",
       "      <td>...</td>\n",
       "      <td>...</td>\n",
       "      <td>...</td>\n",
       "      <td>...</td>\n",
       "      <td>...</td>\n",
       "      <td>...</td>\n",
       "      <td>...</td>\n",
       "      <td>...</td>\n",
       "      <td>...</td>\n",
       "      <td>...</td>\n",
       "      <td>...</td>\n",
       "    </tr>\n",
       "    <tr>\n",
       "      <th>13816</th>\n",
       "      <td>-1.145263</td>\n",
       "      <td>-1.358497</td>\n",
       "      <td>-1.684452</td>\n",
       "      <td>-1.319610</td>\n",
       "      <td>-1.759762</td>\n",
       "      <td>-0.917939</td>\n",
       "      <td>-1.076284</td>\n",
       "      <td>-1.882339</td>\n",
       "      <td>-1.122640</td>\n",
       "      <td>-1.223603</td>\n",
       "      <td>-0.007086</td>\n",
       "      <td>-1.192301</td>\n",
       "      <td>-1.353155</td>\n",
       "      <td>-1.539348</td>\n",
       "    </tr>\n",
       "    <tr>\n",
       "      <th>13817</th>\n",
       "      <td>1.073249</td>\n",
       "      <td>1.304327</td>\n",
       "      <td>0.144006</td>\n",
       "      <td>-0.207936</td>\n",
       "      <td>-0.770018</td>\n",
       "      <td>-0.764711</td>\n",
       "      <td>-0.770972</td>\n",
       "      <td>-0.698170</td>\n",
       "      <td>-0.967074</td>\n",
       "      <td>-1.059324</td>\n",
       "      <td>-0.007086</td>\n",
       "      <td>-0.473315</td>\n",
       "      <td>0.377298</td>\n",
       "      <td>-0.299498</td>\n",
       "    </tr>\n",
       "    <tr>\n",
       "      <th>13818</th>\n",
       "      <td>0.083398</td>\n",
       "      <td>0.835115</td>\n",
       "      <td>-0.893492</td>\n",
       "      <td>1.148516</td>\n",
       "      <td>0.566646</td>\n",
       "      <td>0.482658</td>\n",
       "      <td>0.931911</td>\n",
       "      <td>0.644886</td>\n",
       "      <td>1.340216</td>\n",
       "      <td>1.057028</td>\n",
       "      <td>-0.008212</td>\n",
       "      <td>-0.694873</td>\n",
       "      <td>1.040084</td>\n",
       "      <td>-0.627948</td>\n",
       "    </tr>\n",
       "    <tr>\n",
       "      <th>13819</th>\n",
       "      <td>-0.176123</td>\n",
       "      <td>-0.759389</td>\n",
       "      <td>1.252865</td>\n",
       "      <td>1.191438</td>\n",
       "      <td>0.397903</td>\n",
       "      <td>-0.603562</td>\n",
       "      <td>-0.544070</td>\n",
       "      <td>0.664221</td>\n",
       "      <td>0.684662</td>\n",
       "      <td>-0.048167</td>\n",
       "      <td>-0.007086</td>\n",
       "      <td>-0.868986</td>\n",
       "      <td>1.248447</td>\n",
       "      <td>-0.916533</td>\n",
       "    </tr>\n",
       "    <tr>\n",
       "      <th>13820</th>\n",
       "      <td>-1.145263</td>\n",
       "      <td>-1.358497</td>\n",
       "      <td>-1.684452</td>\n",
       "      <td>-1.319610</td>\n",
       "      <td>-1.759762</td>\n",
       "      <td>-0.917939</td>\n",
       "      <td>-1.076284</td>\n",
       "      <td>-1.882339</td>\n",
       "      <td>-1.122640</td>\n",
       "      <td>-1.223603</td>\n",
       "      <td>-0.007086</td>\n",
       "      <td>-1.192301</td>\n",
       "      <td>-1.353155</td>\n",
       "      <td>-1.539348</td>\n",
       "    </tr>\n",
       "  </tbody>\n",
       "</table>\n",
       "<p>13821 rows × 14 columns</p>\n",
       "</div>"
      ],
      "text/plain": [
       "       avgTimeBetweenSentTnx  avgTimeBetweenRecTnx  lifetime  \\\n",
       "0                   0.742503              0.147839  0.551112   \n",
       "1                  -0.146034             -1.358497 -1.387473   \n",
       "2                   0.598840             -0.453713  1.473800   \n",
       "3                  -1.145263              1.033566 -1.387473   \n",
       "4                   0.719471              0.975686 -0.108589   \n",
       "...                      ...                   ...       ...   \n",
       "13816              -1.145263             -1.358497 -1.684452   \n",
       "13817               1.073249              1.304327  0.144006   \n",
       "13818               0.083398              0.835115 -0.893492   \n",
       "13819              -0.176123             -0.759389  1.252865   \n",
       "13820              -1.145263             -1.358497 -1.684452   \n",
       "\n",
       "       sentTransactions  receivedTransactions  avgValSent  avgValReceived  \\\n",
       "0              1.730040              1.797928    1.844333        2.063814   \n",
       "1             -0.405058             -1.104854   -0.909572       -1.039192   \n",
       "2              0.044638             -0.084580    1.152874        1.222639   \n",
       "3             -0.710821             -0.012750    1.701239        1.061602   \n",
       "4              0.797030              0.198686    0.564063        1.402087   \n",
       "...                 ...                   ...         ...             ...   \n",
       "13816         -1.319610             -1.759762   -0.917939       -1.076284   \n",
       "13817         -0.207936             -0.770018   -0.764711       -0.770972   \n",
       "13818          1.148516              0.566646    0.482658        0.931911   \n",
       "13819          1.191438              0.397903   -0.603562       -0.544070   \n",
       "13820         -1.319610             -1.759762   -0.917939       -1.076284   \n",
       "\n",
       "       totalTransactions  totalEtherSent  totalEtherReceived  \\\n",
       "0               1.639666        2.110013            2.161257   \n",
       "1              -0.938144       -1.116705           -1.213442   \n",
       "2              -0.280278        0.733522            0.691473   \n",
       "3              -0.416511        0.696456            0.652533   \n",
       "4               0.255103        1.045362            1.018174   \n",
       "...                  ...             ...                 ...   \n",
       "13816          -1.882339       -1.122640           -1.223603   \n",
       "13817          -0.698170       -0.967074           -1.059324   \n",
       "13818           0.644886        1.340216            1.057028   \n",
       "13819           0.664221        0.684662           -0.048167   \n",
       "13820          -1.882339       -1.122640           -1.223603   \n",
       "\n",
       "       totalEtherBalance  ratioRecSent  ratioSentTotal  ratioRecTotal  \n",
       "0               0.008760      0.068761        0.238740       0.355358  \n",
       "1              -0.007086     -0.664424        0.377298      -0.580368  \n",
       "2              -0.007086      0.167696        0.134754       0.456173  \n",
       "3              -0.007086      0.867910       -0.944307       1.027595  \n",
       "4              -0.007085     -0.567660        0.864196      -0.434443  \n",
       "...                  ...           ...             ...            ...  \n",
       "13816          -0.007086     -1.192301       -1.353155      -1.539348  \n",
       "13817          -0.007086     -0.473315        0.377298      -0.299498  \n",
       "13818          -0.008212     -0.694873        1.040084      -0.627948  \n",
       "13819          -0.007086     -0.868986        1.248447      -0.916533  \n",
       "13820          -0.007086     -1.192301       -1.353155      -1.539348  \n",
       "\n",
       "[13821 rows x 14 columns]"
      ]
     },
     "execution_count": 129,
     "metadata": {},
     "output_type": "execute_result"
    }
   ],
   "source": [
    "norm_df = pd.DataFrame(norm_train_f, columns=X_train.columns)\n",
    "norm_df"
   ]
  },
  {
   "cell_type": "code",
   "execution_count": 141,
   "metadata": {
    "execution": {
     "iopub.execute_input": "2024-11-09T11:07:42.566803Z",
     "iopub.status.busy": "2024-11-09T11:07:42.566221Z",
     "iopub.status.idle": "2024-11-09T11:07:42.650304Z",
     "shell.execute_reply": "2024-11-09T11:07:42.648920Z",
     "shell.execute_reply.started": "2024-11-09T11:07:42.566754Z"
    },
    "id": "4z64YBDpRN5G",
    "outputId": "f481da04-0b34-43fe-ede4-5fb863d36752",
    "trusted": true
   },
   "outputs": [
    {
     "name": "stdout",
     "output_type": "stream",
     "text": [
      "Shape of the training before SMOTE: ((13821, 14), (13821,))\n",
      "Shape of the training after SMOTE: ((16408, 14), (16408,))\n"
     ]
    }
   ],
   "source": [
    "oversample = SMOTE()\n",
    "print(f'Shape of the training before SMOTE: {norm_train_f.shape, y_train.shape}')\n",
    "\n",
    "x_tr_resample, y_tr_resample = oversample.fit_resample(X_train, y_train)\n",
    "print(f'Shape of the training after SMOTE: {x_tr_resample.shape, y_tr_resample.shape}')"
   ]
  },
  {
   "cell_type": "code",
   "execution_count": 142,
   "metadata": {
    "execution": {
     "iopub.execute_input": "2024-11-09T11:07:46.969903Z",
     "iopub.status.busy": "2024-11-09T11:07:46.969475Z",
     "iopub.status.idle": "2024-11-09T11:07:46.992875Z",
     "shell.execute_reply": "2024-11-09T11:07:46.991247Z",
     "shell.execute_reply.started": "2024-11-09T11:07:46.969861Z"
    },
    "id": "_EafbcDWR4mb",
    "outputId": "920a5044-7ca1-4812-dcb4-4aeed979e7fc",
    "trusted": true
   },
   "outputs": [
    {
     "name": "stdout",
     "output_type": "stream",
     "text": [
      "BEFORE OVERSAMPLING \n",
      " \tNon-frauds: 5617 \n",
      " \tFauds: 8204\n",
      "AFTER OVERSAMPLING \n",
      " \tNon-frauds: 8204 \n",
      " \tFrauds: 8205\n"
     ]
    }
   ],
   "source": [
    "\n",
    "non_fraud = 0\n",
    "fraud = 0\n",
    "\n",
    "for i in y_train:\n",
    "    if i == 0:\n",
    "        non_fraud +=1\n",
    "    else:\n",
    "        fraud +=1\n",
    "\n",
    "no = 0\n",
    "yes = 1\n",
    "\n",
    "for j in y_tr_resample:\n",
    "    if j == 0:\n",
    "        no +=1\n",
    "    else:\n",
    "        yes +=1\n",
    "\n",
    "\n",
    "print(f'BEFORE OVERSAMPLING \\n \\tNon-frauds: {non_fraud} \\n \\tFauds: {fraud}')\n",
    "print(f'AFTER OVERSAMPLING \\n \\tNon-frauds: {no} \\n \\tFrauds: {yes}')\n"
   ]
  },
  {
   "cell_type": "code",
   "execution_count": 143,
   "metadata": {
    "execution": {
     "iopub.execute_input": "2024-11-09T11:07:48.020174Z",
     "iopub.status.busy": "2024-11-09T11:07:48.019650Z",
     "iopub.status.idle": "2024-11-09T11:07:48.160117Z",
     "shell.execute_reply": "2024-11-09T11:07:48.158347Z",
     "shell.execute_reply.started": "2024-11-09T11:07:48.020131Z"
    },
    "id": "WACkNo9xSEBw",
    "outputId": "56d82901-4295-46dc-c87d-857e42dbb77f",
    "trusted": true
   },
   "outputs": [],
   "source": [
    "LR = LogisticRegression(random_state=0)\n",
    "LR.fit(norm_train_f, y_train)\n",
    "# Transform test features\n",
    "norm_test_f = norm.transform(X_test)\n",
    "preds = LR.predict(norm_test_f)"
   ]
  },
  {
   "cell_type": "code",
   "execution_count": 144,
   "metadata": {
    "execution": {
     "iopub.execute_input": "2024-11-09T11:07:50.290132Z",
     "iopub.status.busy": "2024-11-09T11:07:50.289519Z",
     "iopub.status.idle": "2024-11-09T11:07:50.302147Z",
     "shell.execute_reply": "2024-11-09T11:07:50.300458Z",
     "shell.execute_reply.started": "2024-11-09T11:07:50.290093Z"
    },
    "id": "W2U083r7SN7Z",
    "outputId": "a97ef32f-f363-4cb2-e863-c75d618e03f2",
    "trusted": true
   },
   "outputs": [
    {
     "name": "stdout",
     "output_type": "stream",
     "text": [
      "(3456,)\n"
     ]
    },
    {
     "data": {
      "text/plain": [
       "flag\n",
       "1    2077\n",
       "0    1379\n",
       "Name: count, dtype: int64"
      ]
     },
     "execution_count": 144,
     "metadata": {},
     "output_type": "execute_result"
    }
   ],
   "source": [
    "print(y_test.shape)\n",
    "y_test.value_counts()"
   ]
  },
  {
   "cell_type": "code",
   "execution_count": 145,
   "metadata": {
    "execution": {
     "iopub.execute_input": "2024-11-09T11:07:51.591324Z",
     "iopub.status.busy": "2024-11-09T11:07:51.589807Z",
     "iopub.status.idle": "2024-11-09T11:07:51.929182Z",
     "shell.execute_reply": "2024-11-09T11:07:51.927852Z",
     "shell.execute_reply.started": "2024-11-09T11:07:51.591271Z"
    },
    "id": "uCR5dDhqSRZT",
    "outputId": "8eabd393-82ae-44ab-ddfb-2aa83d5cd69b",
    "trusted": true
   },
   "outputs": [
    {
     "name": "stdout",
     "output_type": "stream",
     "text": [
      "              precision    recall  f1-score   support\n",
      "\n",
      "           0       0.79      0.78      0.79      1379\n",
      "           1       0.86      0.86      0.86      2077\n",
      "\n",
      "    accuracy                           0.83      3456\n",
      "   macro avg       0.82      0.82      0.82      3456\n",
      "weighted avg       0.83      0.83      0.83      3456\n",
      "\n",
      "[[1082  297]\n",
      " [ 287 1790]]\n"
     ]
    },
    {
     "data": {
      "image/png": "[encoded data removed]",
      "text/plain": [
       "<Figure size 640x480 with 2 Axes>"
      ]
     },
     "metadata": {},
     "output_type": "display_data"
    }
   ],
   "source": [
    "print(classification_report(y_test, preds))\n",
    "print(confusion_matrix(y_test, preds))\n",
    "cm = confusion_matrix(y_test, preds)\n",
    "disp = ConfusionMatrixDisplay(confusion_matrix=cm, display_labels=LR.classes_)\n",
    "disp.plot(cmap='Blues')\n",
    "plt.title('Confusion Matrix')\n",
    "plt.show()"
   ]
  },
  {
   "cell_type": "code",
   "execution_count": 147,
   "metadata": {
    "execution": {
     "iopub.execute_input": "2024-11-09T11:08:13.961799Z",
     "iopub.status.busy": "2024-11-09T11:08:13.961295Z",
     "iopub.status.idle": "2024-11-09T11:08:15.037248Z",
     "shell.execute_reply": "2024-11-09T11:08:15.035769Z",
     "shell.execute_reply.started": "2024-11-09T11:08:13.961759Z"
    },
    "id": "-rJStsu5SRfK",
    "outputId": "4bd33a4f-2132-4c91-bf6c-921ac9f691f7",
    "trusted": true
   },
   "outputs": [
    {
     "name": "stdout",
     "output_type": "stream",
     "text": [
      "              precision    recall  f1-score   support\n",
      "\n",
      "           0       0.84      0.93      0.88      1379\n",
      "           1       0.95      0.88      0.91      2077\n",
      "\n",
      "    accuracy                           0.90      3456\n",
      "   macro avg       0.89      0.90      0.90      3456\n",
      "weighted avg       0.90      0.90      0.90      3456\n",
      "\n",
      "[[1280   99]\n",
      " [ 249 1828]]\n"
     ]
    },
    {
     "data": {
      "image/png": "[encoded data removed]",
      "text/plain": [
       "<Figure size 640x480 with 2 Axes>"
      ]
     },
     "metadata": {},
     "output_type": "display_data"
    }
   ],
   "source": [
    "RF = RandomForestClassifier(n_estimators=50, max_depth=10, n_jobs=-1)\n",
    "\n",
    "RF.fit(x_tr_resample, y_tr_resample)\n",
    "preds_RF = RF.predict(X_test)\n",
    "\n",
    "print(classification_report(y_test, preds_RF))\n",
    "print(confusion_matrix(y_test, preds_RF))\n",
    "cm = confusion_matrix(y_test, preds_RF)\n",
    "disp = ConfusionMatrixDisplay(confusion_matrix=cm, display_labels=LR.classes_)\n",
    "disp.plot(cmap='Blues')\n",
    "plt.title('Confusion Matrix')\n",
    "plt.show()"
   ]
  },
  {
   "cell_type": "code",
   "execution_count": 148,
   "metadata": {
    "execution": {
     "iopub.execute_input": "2024-11-09T11:08:31.471580Z",
     "iopub.status.busy": "2024-11-09T11:08:31.470165Z",
     "iopub.status.idle": "2024-11-09T11:08:32.124831Z",
     "shell.execute_reply": "2024-11-09T11:08:32.123454Z",
     "shell.execute_reply.started": "2024-11-09T11:08:31.471529Z"
    },
    "id": "oVkgqPuCSvvU",
    "outputId": "70053695-0dec-4cc5-c24f-7b3b9029f170",
    "trusted": true
   },
   "outputs": [
    {
     "name": "stdout",
     "output_type": "stream",
     "text": [
      "              precision    recall  f1-score   support\n",
      "\n",
      "           0       0.90      0.93      0.91      1379\n",
      "           1       0.95      0.93      0.94      2077\n",
      "\n",
      "    accuracy                           0.93      3456\n",
      "   macro avg       0.92      0.93      0.93      3456\n",
      "weighted avg       0.93      0.93      0.93      3456\n",
      "\n",
      "[[1278  101]\n",
      " [ 146 1931]]\n"
     ]
    },
    {
     "data": {
      "image/png": "[encoded data removed]",
      "text/plain": [
       "<Figure size 640x480 with 2 Axes>"
      ]
     },
     "metadata": {},
     "output_type": "display_data"
    }
   ],
   "source": [
    "xgb_c = xgb.XGBClassifier(random_state=42)\n",
    "xgb_c.fit(x_tr_resample, y_tr_resample)\n",
    "preds_xgb = xgb_c.predict(X_test)\n",
    "\n",
    "print(classification_report(y_test, preds_xgb))\n",
    "print(confusion_matrix(y_test, preds_xgb))\n",
    "cm = confusion_matrix(y_test, preds_xgb)\n",
    "disp = ConfusionMatrixDisplay(confusion_matrix=cm, display_labels=LR.classes_)\n",
    "disp.plot(cmap='Blues')\n",
    "plt.title('Confusion Matrix')\n",
    "plt.show()"
   ]
  },
  {
   "cell_type": "code",
   "execution_count": 137,
   "metadata": {
    "execution": {
     "iopub.execute_input": "2024-11-09T11:00:59.208901Z",
     "iopub.status.busy": "2024-11-09T11:00:59.208491Z",
     "iopub.status.idle": "2024-11-09T11:00:59.524146Z",
     "shell.execute_reply": "2024-11-09T11:00:59.522713Z",
     "shell.execute_reply.started": "2024-11-09T11:00:59.208864Z"
    },
    "id": "yOfFuZ4tH9oe",
    "outputId": "3c27ec82-c949-4dc9-86fb-6fa617478f90",
    "trusted": true
   },
   "outputs": [
    {
     "data": {
      "image/png": "[encoded data removed]",
      "text/plain": [
       "<Figure size 1200x800 with 1 Axes>"
      ]
     },
     "metadata": {},
     "output_type": "display_data"
    }
   ],
   "source": [
    "\n",
    "probs = xgb_c.predict_proba(norm_test_f)\n",
    "pred = probs[:,1]\n",
    "fpr, tpr, threshold = roc_curve(y_test, pred)\n",
    "roc_auc = auc(fpr, tpr)\n",
    "\n",
    "plt.figure(figsize=(12,8))\n",
    "plt.title('ROC for tuned XGB Classifier')\n",
    "plt.plot(fpr, tpr, 'b', label = 'AUC = %0.2f' % roc_auc)\n",
    "plt.legend(loc = 'lower right')\n",
    "plt.plot([0,1], [0,1], 'r--')\n",
    "plt.ylabel('True Positive Rate')\n",
    "plt.xlabel('False Positive Rate')\n",
    "plt.show()"
   ]
  },
  {
   "cell_type": "code",
   "execution_count": 149,
   "metadata": {
    "execution": {
     "iopub.execute_input": "2024-11-09T11:09:06.430746Z",
     "iopub.status.busy": "2024-11-09T11:09:06.430283Z",
     "iopub.status.idle": "2024-11-09T11:09:14.644038Z",
     "shell.execute_reply": "2024-11-09T11:09:14.642425Z",
     "shell.execute_reply.started": "2024-11-09T11:09:06.430707Z"
    },
    "trusted": true
   },
   "outputs": [
    {
     "name": "stdout",
     "output_type": "stream",
     "text": [
      "              precision    recall  f1-score   support\n",
      "\n",
      "           0       0.89      0.94      0.91      1379\n",
      "           1       0.96      0.92      0.94      2077\n",
      "\n",
      "    accuracy                           0.93      3456\n",
      "   macro avg       0.92      0.93      0.93      3456\n",
      "weighted avg       0.93      0.93      0.93      3456\n",
      "\n",
      "[[1292   87]\n",
      " [ 160 1917]]\n",
      "Total inference time: 0.0065 seconds\n",
      "Average time per prediction: 0.000002 seconds\n"
     ]
    }
   ],
   "source": [
    "from catboost import CatBoostClassifier\n",
    "from sklearn.metrics import classification_report, confusion_matrix, ConfusionMatrixDisplay\n",
    "import time\n",
    "\n",
    "catboost_model = CatBoostClassifier(random_seed=42, verbose=0)  \n",
    "catboost_model.fit(x_tr_resample, y_tr_resample)\n",
    "\n",
    "start_time = time.time()\n",
    "preds_catboost = catboost_model.predict(X_test)\n",
    "end_time = time.time()\n",
    "inference_time = end_time - start_time\n",
    "\n",
    "average_time_per_prediction = inference_time / len(norm_test_f)\n",
    "\n",
    "print(classification_report(y_test, preds_catboost))\n",
    "print(confusion_matrix(y_test, preds_catboost))\n",
    "\n",
    "print(f\"Total inference time: {inference_time:.4f} seconds\")\n",
    "print(f\"Average time per prediction: {average_time_per_prediction:.6f} seconds\")\n",
    "\n"
   ]
  },
  {
   "cell_type": "code",
   "execution_count": 150,
   "metadata": {
    "execution": {
     "iopub.execute_input": "2024-11-09T11:09:30.665456Z",
     "iopub.status.busy": "2024-11-09T11:09:30.664945Z",
     "iopub.status.idle": "2024-11-09T11:09:30.701949Z",
     "shell.execute_reply": "2024-11-09T11:09:30.700396Z",
     "shell.execute_reply.started": "2024-11-09T11:09:30.665419Z"
    },
    "trusted": true
   },
   "outputs": [
    {
     "name": "stdout",
     "output_type": "stream",
     "text": [
      "lifetime: 0.1690\n",
      "totalTransactions: 0.1295\n",
      "avgValSent: 0.1202\n",
      "totalEtherBalance: 0.0996\n",
      "ratioRecSent: 0.0696\n",
      "sentTransactions: 0.0677\n",
      "avgTimeBetweenRecTnx: 0.0669\n",
      "ratioSentTotal: 0.0548\n",
      "ratioRecTotal: 0.0538\n",
      "avgValReceived: 0.0404\n",
      "avgTimeBetweenSentTnx: 0.0379\n",
      "receivedTransactions: 0.0366\n",
      "totalEtherReceived: 0.0318\n",
      "totalEtherSent: 0.0221\n"
     ]
    }
   ],
   "source": [
    "# Sort feature importance by descending order\n",
    "importances = RF.feature_importances_\n",
    "\n",
    "# Create a list of (feature, importance) pairs\n",
    "feature_importance_pairs = list(zip(X_train.columns, importances))\n",
    "feature_importance_pairs = sorted(feature_importance_pairs, key=lambda x: x[1], reverse=True)\n",
    "\n",
    "# Display feature importance\n",
    "for feature, importance in feature_importance_pairs:\n",
    "    print(f\"{feature}: {importance:.4f}\")\n"
   ]
  },
  {
   "cell_type": "code",
   "execution_count": 153,
   "metadata": {
    "execution": {
     "iopub.execute_input": "2024-11-09T11:10:18.680440Z",
     "iopub.status.busy": "2024-11-09T11:10:18.679957Z",
     "iopub.status.idle": "2024-11-09T11:10:18.691766Z",
     "shell.execute_reply": "2024-11-09T11:10:18.690500Z",
     "shell.execute_reply.started": "2024-11-09T11:10:18.680404Z"
    },
    "trusted": true
   },
   "outputs": [],
   "source": [
    "import pickle\n",
    "pickle_out = open('xgb_2_model.pickle', 'wb')\n",
    "pickle.dump(xgb_c, pickle_out)\n",
    "pickle_out.close()"
   ]
  },
  {
   "cell_type": "code",
   "execution_count": null,
   "metadata": {},
   "outputs": [],
   "source": []
  }
 ],
 "metadata": {
  "colab": {
   "provenance": []
  },
  "kaggle": {
   "accelerator": "none",
   "dataSources": [
    {
     "datasetId": 2478998,
     "sourceId": 4204770,
     "sourceType": "datasetVersion"
    },
    {
     "datasetId": 6044598,
     "sourceId": 9850949,
     "sourceType": "datasetVersion"
    }
   ],
   "dockerImageVersionId": 30587,
   "isGpuEnabled": false,
   "isInternetEnabled": false,
   "language": "python",
   "sourceType": "notebook"
  },
  "kernelspec": {
   "display_name": "Python 3",
   "language": "python",
   "name": "python3"
  },
  "language_info": {
   "codemirror_mode": {
    "name": "ipython",
    "version": 3
   },
   "file_extension": ".py",
   "mimetype": "text/x-python",
   "name": "python",
   "nbconvert_exporter": "python",
   "pygments_lexer": "ipython3",
   "version": "3.10.12"
  }
 },
 "nbformat": 4,
 "nbformat_minor": 4
}
